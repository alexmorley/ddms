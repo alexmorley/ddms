{
 "cells": [
  {
   "cell_type": "code",
   "execution_count": 1,
   "metadata": {
    "collapsed": true
   },
   "outputs": [],
   "source": [
    "timeseries='/tmp/mountainlab-tmp/output_d468ac4041de2645c7ae6f801daea945aabf5b12_timeseries_out.mda'\n",
    "firings='/tmp/mountainlab-tmp/output_0454d0e46a65c78c5f4b2d9093a06f85530a2ab5_firings_out'\n",
    "clip_size=32"
   ]
  },
  {
   "cell_type": "code",
   "execution_count": 2,
   "metadata": {
    "collapsed": true
   },
   "outputs": [],
   "source": [
    "import numpy as np\n",
    "\n",
    "from mltools import mdaio\n",
    "from timeserieschunkreader import TimeseriesChunkReader\n",
    "\n",
    "processor_name='ephys.compute_templates_spk'\n",
    "processor_version='0.01'"
   ]
  },
  {
   "cell_type": "code",
   "execution_count": 41,
   "metadata": {},
   "outputs": [],
   "source": [
    "def compute_templates_spk(*,timeseries,firings,waveforms_out,clip_size=100):\n",
    "    \"\"\"\n",
    "    Compute templates (average waveforms) for clusters defined by the labeled events in firings. One .spk.n file per n-trode.\n",
    "\n",
    "    Parameters\n",
    "    ----------\n",
    "    timeseries : INPUT\n",
    "        Path of timeseries mda file (MxN) from which to draw the event clips (snippets) for computing the templates. M is number of channels, N is number of timepoints.\n",
    "    firings : INPUT\n",
    "        Path of firings mda file (RxL) where R>=3 and L is the number of events. Second row are timestamps, third row are integer labels.\n",
    "    params : INPUT\n",
    "        params.json file. Needed to see number of channels per tetrode.\n",
    "        \n",
    "    waveforms_out : OUTPUT\n",
    "        Base Path (MxTxK). T=clip_size, K=maximum cluster label. Note that empty clusters will correspond to a template of all zeros. \n",
    "        \n",
    "    clip_size : int\n",
    "        (Optional) clip size, aka snippet size, number of timepoints in a single template\n",
    "    \"\"\"    \n",
    "    templates=compute_templates_helper(timeseries=timeseries,firings=firings,clip_size=clip_size)\n",
    "    return mdaio.writemda32(templates,templates_out)\n",
    "    \n",
    "# Same as compute_templates, except return the templates as an array in memory\n",
    "def compute_templates_helper(*,timeseries,firings,waveforms_out,clip_size=100):\n",
    "    X=mdaio.DiskReadMda(timeseries)\n",
    "    M,N = X.N1(),X.N2()\n",
    "    F=mdaio.readmda(firings)\n",
    "    L=F.shape[1]\n",
    "    L=L\n",
    "    T=clip_size\n",
    "    Tmid = int(np.floor((T + 1) / 2) - 1);\n",
    "    whch=F[0,:].ravel()[:]\n",
    "    times=F[1,:].ravel()[:]\n",
    "    labels=F[2,:].ravel().astype(int)[:]\n",
    "    K=np.max(labels)\n",
    "\n",
    "    tetmap = [x + np.arange(1,5) for x in np.arange(0,M-1,4)]\n",
    "    which_tet = [np.where(w==tetmap)[0][0]+1 for w in whch]\n",
    "    \n",
    "    print(\"Starting:\")\n",
    "    for tro in np.arange(1,12):\n",
    "        print(\"Tetrode: \"+str(tro))\n",
    "        inds_k=np.where(which_tet==tro)[0]\n",
    "        print(\"Create Waveforms Array: \"+str(M)+\",\"+str(T)+\",\"+str(len(inds_k)))\n",
    "        waveforms = np.zeros((M,T,len(inds_k)),dtype='int16')\n",
    "        for i,ind_k in enumerate(inds_k): # for each spike\n",
    "            t0=int(times[ind_k])\n",
    "            if (clip_size<=t0) and (t0<N-clip_size):\n",
    "                clip0=X.readChunk(i1=0,N1=M,i2=t0-Tmid,N2=T)\n",
    "                clip_int = clip0.astype(dtype='int16')\n",
    "                waveforms[:,:,i] = clip_int\n",
    "        print(\"Writing Waveforms to File.\")\n",
    "        waveforms.tofile(waveforms_out+str(tro), format='')\n",
    "    \n",
    "    return True"
   ]
  },
  {
   "cell_type": "code",
   "execution_count": 44,
   "metadata": {},
   "outputs": [],
   "source": [
    "tetmap = [x + np.arange(1,5) for x in np.arange(0,48-1,4)]\n",
    "which_tet = [np.where(w==tetmap)[0][0]+1 for w in whch]"
   ]
  },
  {
   "cell_type": "code",
   "execution_count": 37,
   "metadata": {},
   "outputs": [
    {
     "data": {
      "text/plain": [
       "array([0, 2])"
      ]
     },
     "execution_count": 37,
     "metadata": {},
     "output_type": "execute_result"
    }
   ],
   "source": [
    "np.where([True,False,True])[0]"
   ]
  },
  {
   "cell_type": "code",
   "execution_count": 35,
   "metadata": {
    "collapsed": true
   },
   "outputs": [],
   "source": [
    "?np.where"
   ]
  },
  {
   "cell_type": "code",
   "execution_count": 42,
   "metadata": {},
   "outputs": [],
   "source": [
    "whch = compute_templates_helper(timeseries=timeseries,firings=firings,\n",
    "                         waveforms_out=waveforms_out,clip_size=clip_size)"
   ]
  },
  {
   "cell_type": "code",
   "execution_count": null,
   "metadata": {
    "collapsed": true
   },
   "outputs": [],
   "source": []
  }
 ],
 "metadata": {
  "kernelspec": {
   "display_name": "Python 3",
   "language": "python",
   "name": "python3"
  },
  "language_info": {
   "codemirror_mode": {
    "name": "ipython",
    "version": 3
   },
   "file_extension": ".py",
   "mimetype": "text/x-python",
   "name": "python",
   "nbconvert_exporter": "python",
   "pygments_lexer": "ipython3",
   "version": "3.6.3"
  }
 },
 "nbformat": 4,
 "nbformat_minor": 2
}
